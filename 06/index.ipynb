{
 "cells": [
  {
   "cell_type": "markdown",
   "metadata": {},
   "source": [
    "# string in Pyhton"
   ]
  },
  {
   "cell_type": "markdown",
   "metadata": {},
   "source": [
    "### single line output in python"
   ]
  },
  {
   "cell_type": "code",
   "execution_count": 4,
   "metadata": {},
   "outputs": [
    {
     "name": "stdout",
     "output_type": "stream",
     "text": [
      "hello world\n",
      "Hello world\n"
     ]
    }
   ],
   "source": [
    "print('hello world')\n",
    "print(\"Hello world\")"
   ]
  },
  {
   "cell_type": "markdown",
   "metadata": {},
   "source": [
    "### MultiLine output in python\n",
    "- ''' ''' tripple quotes is used for multi line output"
   ]
  },
  {
   "cell_type": "code",
   "execution_count": 7,
   "metadata": {},
   "outputs": [
    {
     "name": "stdout",
     "output_type": "stream",
     "text": [
      "\n",
      "      pakistan \n",
      "      zindaabad\n",
      "      \n"
     ]
    }
   ],
   "source": [
    "print(\"\"\"\n",
    "      pakistan \n",
    "      zindaabad\n",
    "      \"\"\")\n"
   ]
  },
  {
   "cell_type": "markdown",
   "metadata": {},
   "source": [
    "### single line comments\n",
    "\\# symbols is used to single line comments\n",
    "\n",
    "\"\"\" \"\"\" quotes is used to multiline comments"
   ]
  },
  {
   "cell_type": "code",
   "execution_count": 9,
   "metadata": {},
   "outputs": [
    {
     "data": {
      "text/plain": [
       "'multiline comments\\nmultiline comments\\nmultiline comments\\nmultiline comments'"
      ]
     },
     "execution_count": 9,
     "metadata": {},
     "output_type": "execute_result"
    }
   ],
   "source": [
    "# symbols is used to single line comments\n",
    "\n",
    "\"\"\"multiline comments\n",
    "multiline comments\n",
    "multiline comments\n",
    "multiline comments\"\"\""
   ]
  },
  {
   "cell_type": "markdown",
   "metadata": {},
   "source": [
    "## String and varaible concatenation\n",
    "\n",
    "- f string method\n",
    "- .format method\n",
    "- concatenate with + operator"
   ]
  },
  {
   "cell_type": "code",
   "execution_count": 12,
   "metadata": {},
   "outputs": [
    {
     "name": "stdout",
     "output_type": "stream",
     "text": [
      "name:kamran age:45 city:peshawar\n"
     ]
    }
   ],
   "source": [
    "name = \"kamran\"\n",
    "age = 45\n",
    "city = \"peshawar\"\n",
    "# way1\n",
    "# f string which work as template letrals and dynamically concatenate the values\n",
    "card1 = f\"name:{name} age:{age} city:{city}\"\n",
    "print(card1)"
   ]
  },
  {
   "cell_type": "code",
   "execution_count": 13,
   "metadata": {},
   "outputs": [
    {
     "name": "stdout",
     "output_type": "stream",
     "text": [
      "name:kamran age:45 city:peshawar\n",
      "name:kamran age:45 city:peshawar\n"
     ]
    }
   ],
   "source": [
    "name = \"kamran\"\n",
    "age = 45\n",
    "city = \"peshawar\"\n",
    "# way2\n",
    "# f string which work as template letrals and dynamically concatenate the values\n",
    "card2 = \"name:{} age:{} city:{}\".format(name,age,city)\n",
    "print(card2)\n",
    "card2 = \"name:{2} age:{1} city:{0}\".format(city,age,name)\n",
    "print(card2)"
   ]
  },
  {
   "cell_type": "code",
   "execution_count": 14,
   "metadata": {},
   "outputs": [
    {
     "name": "stdout",
     "output_type": "stream",
     "text": [
      "name kamran age 45 city peshawar\n"
     ]
    }
   ],
   "source": [
    "name = \"kamran\"\n",
    "age = 45\n",
    "city = \"peshawar\"\n",
    "# way3\n",
    "card3 = \"name \" + name + \" age \" + str(age) + \" city \" + city\n",
    "print(card3)"
   ]
  }
 ],
 "metadata": {
  "kernelspec": {
   "display_name": "Python 3",
   "language": "python",
   "name": "python3"
  },
  "language_info": {
   "codemirror_mode": {
    "name": "ipython",
    "version": 3
   },
   "file_extension": ".py",
   "mimetype": "text/x-python",
   "name": "python",
   "nbconvert_exporter": "python",
   "pygments_lexer": "ipython3",
   "version": "3.12.1"
  }
 },
 "nbformat": 4,
 "nbformat_minor": 2
}
